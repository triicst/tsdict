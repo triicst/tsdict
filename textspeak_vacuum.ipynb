{
 "cells": [
  {
   "cell_type": "code",
   "execution_count": null,
   "metadata": {},
   "outputs": [],
   "source": [
    "import tweepy\n",
    "import csv\n",
    "from tweepy.streaming import StreamListener\n",
    "from random import *\n",
    "from io import open"
   ]
  },
  {
   "cell_type": "code",
   "execution_count": null,
   "metadata": {},
   "outputs": [],
   "source": [
    "consumer_key = \"ERHTJvpcp6RwPm4UA7eTE85r1\"\n",
    "consumer_key_secret = \"1GtwLLNn5n0vk5uXEUNsk3QBQ16idzpEWIHsGyFAwsvacwWmDm\"\n",
    "access_token = \"1054741876539039744-XgZ9NjKz4VZf9PkLdpQum46hfSsKgA\"\n",
    "access_token_secret = \"57mouseJ7NqFORr7djDpciAr8f5ksvpAAoIcIS3NO7jxI\"\n",
    "auth = tweepy.OAuthHandler(consumer_key, consumer_key_secret)\n",
    "auth.set_access_token(access_token, access_token_secret)"
   ]
  },
  {
   "cell_type": "code",
   "execution_count": null,
   "metadata": {},
   "outputs": [],
   "source": [
    "class StdOutListener(StreamListener):\n",
    "    def __init__(self, api=None):\n",
    "        self.api = api\n",
    "        self.filename = 'data_' + str(randint(10000000, 99999999)) + '.csv'\n",
    "        with open('retrieved_data/' + self.filename, 'w', newline=\"\", encoding=\"utf-8\") as f:\n",
    "            csv.writer(f)\n",
    "\n",
    "    def on_status(self, status):\n",
    "        with open('retrieved_data/' + self.filename, 'a', newline=\"\", encoding=\"utf-8\") as f:\n",
    "            w_vac = csv.writer(f)\n",
    "            if not 'RT @' in status.text:\n",
    "                try:\n",
    "                    w_vac.writerow([status.text, status.id])\n",
    "                except Exception as e:\n",
    "                    print(e)\n",
    "                    pass\n",
    "            return\n"
   ]
  },
  {
   "cell_type": "code",
   "execution_count": null,
   "metadata": {},
   "outputs": [],
   "source": [
    "vacuum_listener = StdOutListener()\n",
    "vacuum_stream = tweepy.Stream(auth, vacuum_listener, tweet_mode='extended')\n",
    "vacuum_stream.filter(track=['#'], languages=['en'])"
   ]
  }
 ],
 "metadata": {
  "kernelspec": {
   "display_name": "Python 3",
   "language": "python",
   "name": "python3"
  },
  "language_info": {
   "codemirror_mode": {
    "name": "ipython",
    "version": 3
   },
   "file_extension": ".py",
   "mimetype": "text/x-python",
   "name": "python",
   "nbconvert_exporter": "python",
   "pygments_lexer": "ipython3",
   "version": "3.6.5"
  }
 },
 "nbformat": 4,
 "nbformat_minor": 2
}
