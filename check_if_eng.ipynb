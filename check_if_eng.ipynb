{
 "cells": [
  {
   "cell_type": "code",
   "execution_count": 5,
   "metadata": {},
   "outputs": [],
   "source": [
    "import pandas as pd\n",
    "import csv\n",
    "from spellchecker import SpellChecker"
   ]
  },
  {
   "cell_type": "code",
   "execution_count": null,
   "metadata": {},
   "outputs": [],
   "source": [
    "#check_data = pd.read_csv(\"retrieved_data/count_all_v2.csv\", low_memory=False)\n",
    "check_data = pd.read_csv(\"retrieved_data/count_all_v2.csv\", low_memory=False)\n",
    "spell = SpellChecker()\n",
    "word_list = []"
   ]
  },
  {
   "cell_type": "code",
   "execution_count": null,
   "metadata": {},
   "outputs": [],
   "source": [
    "for word in range(len(check_data)):\n",
    "    if isinstance(word, str):\n",
    "        word_list.append(word)\n",
    "    else:\n",
    "        word_list.append(str(word))\n",
    "textspeak = spell.unknown(word_list)"
   ]
  },
  {
   "cell_type": "code",
   "execution_count": null,
   "metadata": {},
   "outputs": [],
   "source": [
    "#with open('retrieved_data/textspeak_list.csv', 'w', newline=\"\", encoding=\"utf-8\") as ts:\n",
    "with open('retrieved_data/textspeak_list.csv', 'w', newline=\"\", encoding=\"utf-8\") as ts:\n",
    "    ts_list = csv.writer(ts)\n",
    "    ts_list.writerow(['textspeak'])\n",
    "    for word in textspeak:\n",
    "        ts_list.writerow([word])"
   ]
  }
 ],
 "metadata": {
  "kernelspec": {
   "display_name": "Python 3",
   "language": "python",
   "name": "python3"
  },
  "language_info": {
   "codemirror_mode": {
    "name": "ipython",
    "version": 3
   },
   "file_extension": ".py",
   "mimetype": "text/x-python",
   "name": "python",
   "nbconvert_exporter": "python",
   "pygments_lexer": "ipython3",
   "version": "3.6.5"
  }
 },
 "nbformat": 4,
 "nbformat_minor": 2
}
