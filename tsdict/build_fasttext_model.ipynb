{
 "cells": [
  {
   "cell_type": "code",
   "execution_count": null,
   "metadata": {},
   "outputs": [],
   "source": [
    "import csv\n",
    "import re\n",
    "import pandas as pd\n",
    "import gensim\n",
    "from gensim.models import Word2Vec\n",
    "from nltk.corpus import stopwords  \n",
    "from gensim.models import KeyedVectors\n",
    "from gensim.models import FastText"
   ]
  },
  {
   "cell_type": "code",
   "execution_count": null,
   "metadata": {},
   "outputs": [],
   "source": [
    "dataset = pd.read_csv('../retrieved_data/all_data.csv', low_memory=False)"
   ]
  },
  {
   "cell_type": "code",
   "execution_count": null,
   "metadata": {},
   "outputs": [],
   "source": [
    "text = []\n",
    "for sentences in range(len(dataset)):\n",
    "    text.append(dataset.iloc[sentences][0])"
   ]
  },
  {
   "cell_type": "code",
   "execution_count": null,
   "metadata": {},
   "outputs": [],
   "source": [
    "processed_textlist = []\n",
    "for sentence in text:\n",
    "    t = ''\n",
    "    t = re.sub('[^a-z0-9 ]', '', t)  \n",
    "    t = sentence.lower()  \n",
    "    t = re.sub(r'\\s+', ' ', t)\n",
    "    processed_textlist.append(t.split(' '))"
   ]
  },
  {
   "cell_type": "code",
   "execution_count": null,
   "metadata": {},
   "outputs": [],
   "source": [
    "for i in range(len(processed_textlist)):  \n",
    "    processed_textlist[i] = [word for word in processed_textlist[i] if word not in stopwords.words('english')]"
   ]
  },
  {
   "cell_type": "code",
   "execution_count": null,
   "metadata": {},
   "outputs": [],
   "source": [
    "ft_model = FastText(size=300, window=5, min_count=2, workers=4)\n",
    "ft_model.build_vocab(processed_textlist)"
   ]
  },
  {
   "cell_type": "code",
   "execution_count": null,
   "metadata": {},
   "outputs": [],
   "source": [
    "#ft_model.intersect_word2vec_format('../pretrained_model/GoogleNews-vectors-negative300.bin', lockf=1.0, binary=True)\n",
    "ft_model.train(processed_textlist, total_examples=ft_model.corpus_count, epochs=15)\n",
    "ft_model.save('../newtrained_model/tsdict_ft.model')"
   ]
  },
  {
   "cell_type": "code",
   "execution_count": null,
   "metadata": {},
   "outputs": [],
   "source": [
    "print(ft_model.wv.most_similar(['tmr']))"
   ]
  }
 ],
 "metadata": {
  "kernelspec": {
   "display_name": "Python 3",
   "language": "python",
   "name": "python3"
  },
  "language_info": {
   "codemirror_mode": {
    "name": "ipython",
    "version": 3
   },
   "file_extension": ".py",
   "mimetype": "text/x-python",
   "name": "python",
   "nbconvert_exporter": "python",
   "pygments_lexer": "ipython3",
   "version": "3.6.5"
  }
 },
 "nbformat": 4,
 "nbformat_minor": 2
}
