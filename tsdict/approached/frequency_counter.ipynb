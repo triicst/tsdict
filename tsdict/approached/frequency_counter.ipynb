{
 "cells": [
  {
   "cell_type": "code",
   "execution_count": 1,
   "metadata": {},
   "outputs": [],
   "source": [
    "import pandas as pd\n",
    "import csv\n",
    "from collections import Counter"
   ]
  },
  {
   "cell_type": "code",
   "execution_count": 2,
   "metadata": {},
   "outputs": [],
   "source": [
    "retrieved_data = pd.read_csv('../retrieved_data/all_data_processed_split.csv', low_memory=False)\n",
    "dr = len(retrieved_data)\n",
    "dc = len(retrieved_data.columns)\n",
    "all_data_list = []\n",
    "for row in range(dr):\n",
    "    for col in range(dc):\n",
    "        if str(retrieved_data.iloc[row][col]) != 'nan':\n",
    "            all_data_list.append(retrieved_data.iloc[row][col])\n",
    "counter_list = Counter(all_data_list)"
   ]
  },
  {
   "cell_type": "code",
   "execution_count": 3,
   "metadata": {},
   "outputs": [],
   "source": [
    "with open('../retrieved_data/count_all.csv', 'w', newline='', encoding='utf-8') as c:\n",
    "    w_freq = csv.writer(c)\n",
    "    w_freq.writerow(['word', 'frequency'])\n",
    "    for key in counter_list:\n",
    "        w_freq.writerow([key, counter_list[key]])"
   ]
  },
  {
   "cell_type": "code",
   "execution_count": null,
   "metadata": {},
   "outputs": [],
   "source": []
  }
 ],
 "metadata": {
  "kernelspec": {
   "display_name": "Python 3",
   "language": "python",
   "name": "python3"
  },
  "language_info": {
   "codemirror_mode": {
    "name": "ipython",
    "version": 3
   },
   "file_extension": ".py",
   "mimetype": "text/x-python",
   "name": "python",
   "nbconvert_exporter": "python",
   "pygments_lexer": "ipython3",
   "version": "3.6.5"
  }
 },
 "nbformat": 4,
 "nbformat_minor": 2
}
