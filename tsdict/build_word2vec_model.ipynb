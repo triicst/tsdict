{
 "cells": [
  {
   "cell_type": "code",
   "execution_count": null,
   "metadata": {},
   "outputs": [],
   "source": [
    "import csv\n",
    "import re\n",
    "import pandas as pd\n",
    "import gensim\n",
    "from gensim.models import Word2Vec\n",
    "from nltk.corpus import stopwords  \n",
    "from gensim.models import KeyedVectors"
   ]
  },
  {
   "cell_type": "code",
   "execution_count": null,
   "metadata": {},
   "outputs": [],
   "source": [
    "dataset = pd.read_csv('../retrieved_data/all_data.csv', low_memory=False)"
   ]
  },
  {
   "cell_type": "code",
   "execution_count": null,
   "metadata": {},
   "outputs": [],
   "source": [
    "text = []\n",
    "for sentences in range(len(dataset)):\n",
    "    text.append(dataset.iloc[sentences][0])"
   ]
  },
  {
   "cell_type": "code",
   "execution_count": null,
   "metadata": {},
   "outputs": [],
   "source": [
    "processed_textlist = []\n",
    "for sentence in text:\n",
    "    t = ''\n",
    "    t = sentence.lower()  \n",
    "    t = re.sub('[^a-z0-9 ]', '', t)  \n",
    "    t = re.sub(r'\\s+', ' ', t)\n",
    "    processed_textlist.append(t.split(' '))"
   ]
  },
  {
   "cell_type": "code",
   "execution_count": null,
   "metadata": {},
   "outputs": [],
   "source": [
    "for i in range(len(processed_textlist)):  \n",
    "    processed_textlist[i] = [word for word in processed_textlist[i] if word not in stopwords.words('english')]"
   ]
  },
  {
   "cell_type": "markdown",
   "metadata": {},
   "source": [
    "The model of 'GoogleNews-vectors-negative300.bin' is too big(3.39GB), so it does not include in the submitted project's folder"
   ]
  },
  {
   "cell_type": "markdown",
   "metadata": {},
   "source": [
    "The file can be downloaded via https://drive.google.com/file/d/0B7XkCwpI5KDYNlNUTTlSS21pQmM/edit"
   ]
  },
  {
   "cell_type": "code",
   "execution_count": null,
   "metadata": {},
   "outputs": [],
   "source": [
    "#model_2 = KeyedVectors.load_word2vec_format(\"../pretrained_model/GoogleNews-vectors-negative300.bin\", binary=True)\n",
    "#model.build_vocab([list(model_2.vocab.keys())], update=True)"
   ]
  },
  {
   "cell_type": "code",
   "execution_count": null,
   "metadata": {},
   "outputs": [],
   "source": [
    "model = gensim.models.Word2Vec(size=300, window=10, min_count=2, workers=4)\n",
    "model.build_vocab(processed_textlist)"
   ]
  },
  {
   "cell_type": "code",
   "execution_count": null,
   "metadata": {},
   "outputs": [],
   "source": [
    "model.intersect_word2vec_format('../pretrained_model/GoogleNews-vectors-negative300.bin', lockf=1.0, binary=True)\n",
    "model.train(processed_textlist, total_examples=model.corpus_count, epochs=15)\n",
    "model.save('../newtrained_model/tsdict_w2v_cbow.model')"
   ]
  },
  {
   "cell_type": "code",
   "execution_count": null,
   "metadata": {},
   "outputs": [],
   "source": [
    "model2 = gensim.models.Word2Vec(size=300, window=10, min_count=2, workers=4, sg=1)\n",
    "model2.build_vocab(processed_textlist)"
   ]
  },
  {
   "cell_type": "code",
   "execution_count": null,
   "metadata": {},
   "outputs": [],
   "source": [
    "model2.intersect_word2vec_format('../pretrained_model/GoogleNews-vectors-negative300.bin', lockf=1.0, binary=True)\n",
    "model2.train(processed_textlist, total_examples=model2.corpus_count, epochs=15)\n",
    "model2.save('../newtrained_model/tsdict_w2v_skipgram.model')"
   ]
  },
  {
   "cell_type": "code",
   "execution_count": null,
   "metadata": {},
   "outputs": [],
   "source": [
    "print(model.wv.most_similar(['2moro'], topn=50))"
   ]
  },
  {
   "cell_type": "code",
   "execution_count": null,
   "metadata": {},
   "outputs": [],
   "source": []
  }
 ],
 "metadata": {
  "kernelspec": {
   "display_name": "Python 3",
   "language": "python",
   "name": "python3"
  },
  "language_info": {
   "codemirror_mode": {
    "name": "ipython",
    "version": 3
   },
   "file_extension": ".py",
   "mimetype": "text/x-python",
   "name": "python",
   "nbconvert_exporter": "python",
   "pygments_lexer": "ipython3",
   "version": "3.6.5"
  }
 },
 "nbformat": 4,
 "nbformat_minor": 2
}
